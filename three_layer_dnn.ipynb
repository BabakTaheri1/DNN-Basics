{
 "cells": [
  {
   "cell_type": "markdown",
   "id": "9519913f",
   "metadata": {},
   "source": [
    "# 3-Layer DNN\n",
    "\n",
    "This notebook implements a 3-layer neural network with two hidden layers for binary classification. Below are the key components and equations that define the model.\n"
   ]
  },
  {
   "cell_type": "markdown",
   "id": "ed055daa",
   "metadata": {},
   "source": [
    "## Data and Activations\n",
    "- **Data**: Synthetic data with \\( X \\in \\mathbb{R}^{2 \\times 400} \\) and \\( y \\in \\mathbb{R}^{1 \\times 400} \\), same as the 1-layer model.\n",
    "- **ReLU Activation**: Used for hidden layers to introduce nonlinearity:\n",
    "  \\[\n",
    "  \\text{ReLU}(z) = \\max(0, z)\n",
    "  \\]\n",
    "- **Sigmoid Activation**: Used for the output layer:\n",
    "  \\[\n",
    "  \\sigma(z) = \\frac{1}{1 + e^{-z}}\n",
    "  \\]\n"
   ]
  },
  {
   "cell_type": "code",
   "execution_count": 1,
   "id": "efcf9e9f",
   "metadata": {},
   "outputs": [],
   "source": [
    "import numpy as np\n",
    "import matplotlib.pyplot as plt\n",
    "\n",
    "# Generate synthetic data\n",
    "np.random.seed(42)\n",
    "X = np.random.randn(2, 400)\n",
    "y = np.where(X[0, :] + X[1, :] > 0, 1, 0).reshape(1, 400)"
   ]
  },
  {
   "cell_type": "code",
   "execution_count": 2,
   "id": "32c57cba",
   "metadata": {},
   "outputs": [],
   "source": [
    "# Sigmoid and ReLU activations\n",
    "def sigmoid(z):\n",
    "    return 1 / (1 + np.exp(-z))\n",
    "\n",
    "def relu(z):\n",
    "    return np.maximum(0, z)"
   ]
  },
  {
   "cell_type": "markdown",
   "id": "a6e8f974",
   "metadata": {},
   "source": [
    "## Parameter Initialization\n",
    "Initialize weights and biases for three layers:\n",
    "- **Layer 1 (Hidden)**: \\( W_1 \\in \\mathbb{R}^{n_{h1} \\times n_x} \\), \\( b_1 \\in \\mathbb{R}^{n_{h1} \\times 1} \\), with \\( n_{h1} = 4 \\).\n",
    "- **Layer 2 (Hidden)**: \\( W_2 \\in \\mathbb{R}^{n_{h2} \\times n_{h1}} \\), \\( b_2 \\in \\mathbb{R}^{n_{h2} \\times 1} \\), with \\( n_{h2} = 3 \\).\n",
    "- **Layer 3 (Output)**: \\( W_3 \\in \\mathbb{R}^{n_y \\times n_{h2}} \\), \\( b_3 \\in \\mathbb{R}^{n_y \\times 1} \\), with \\( n_y = 1 \\)."
   ]
  },
  {
   "cell_type": "code",
   "execution_count": 3,
   "id": "56a41e56",
   "metadata": {},
   "outputs": [],
   "source": [
    "# Initialize parameters\n",
    "def initialize_parameters_3layer(n_x, n_h1, n_h2, n_y):\n",
    "    W1 = np.random.randn(n_h1, n_x) * 0.01\n",
    "    b1 = np.zeros((n_h1, 1))\n",
    "    W2 = np.random.randn(n_h2, n_h1) * 0.01\n",
    "    b2 = np.zeros((n_h2, 1))\n",
    "    W3 = np.random.randn(n_y, n_h2) * 0.01\n",
    "    b3 = np.zeros((n_y, 1))\n",
    "    return W1, b1, W2, b2, W3, b3"
   ]
  },
  {
   "cell_type": "markdown",
   "id": "6592650c",
   "metadata": {},
   "source": [
    "## Forward Propagation\n",
    "Compute the activations through three layers:\n",
    "\\[\n",
    "Z_1 = W_1 X + b_1, \\quad A_1 = \\text{ReLU}(Z_1)\n",
    "\\]\n",
    "\\[\n",
    "Z_2 = W_2 A_1 + b_2, \\quad A_2 = \\text{ReLU}(Z_2)\n",
    "\\]\n",
    "\\[\n",
    "Z_3 = W_3 A_2 + b_3, \\quad A_3 = \\sigma(Z_3)\n",
    "\\]\n",
    "- Each layer applies a linear transformation followed by an activation function.\n"
   ]
  },
  {
   "cell_type": "code",
   "execution_count": 4,
   "id": "0e68c0cf",
   "metadata": {},
   "outputs": [],
   "source": [
    "# Forward propagation\n",
    "def forward_propagation_3layer(X, W1, b1, W2, b2, W3, b3):\n",
    "    Z1 = np.dot(W1, X) + b1\n",
    "    A1 = relu(Z1)\n",
    "    Z2 = np.dot(W2, A1) + b2\n",
    "    A2 = relu(Z2)\n",
    "    Z3 = np.dot(W3, A2) + b3\n",
    "    A3 = sigmoid(Z3)\n",
    "    return A1, A2, A3"
   ]
  },
  {
   "cell_type": "markdown",
   "id": "5ff5873d",
   "metadata": {},
   "source": [
    "## Cost Function\n",
    "Binary cross-entropy loss:\n",
    "\\[\n",
    "J = -\\frac{1}{m} \\sum_{i=1}^m \\left[ y^{(i)} \\log(A_3^{(i)}) + (1 - y^{(i)}) \\log(1 - A_3^{(i)}) \\right]\n",
    "\\]\n"
   ]
  },
  {
   "cell_type": "code",
   "execution_count": 5,
   "id": "5da8937b",
   "metadata": {},
   "outputs": [],
   "source": [
    "# Compute cost\n",
    "def compute_cost_3layer(A3, y):\n",
    "    m = y.shape[1]\n",
    "    cost = -np.sum(y * np.log(A3) + (1 - y) * np.log(1 - A3)) / m\n",
    "    return cost"
   ]
  },
  {
   "cell_type": "markdown",
   "id": "3824ac58",
   "metadata": {},
   "source": [
    "## Backward Propagation\n",
    "Backpropagate the errors through the layers:\n",
    "\\[\n",
    "dZ_3 = A_3 - y\n",
    "\\]\n",
    "\\[\n",
    "dW_3 = \\frac{1}{m} dZ_3 A_2^T, \\quad db_3 = \\frac{1}{m} \\sum_{i=1}^m dZ_3^{(i)}\n",
    "\\]\n",
    "\\[\n",
    "dZ_2 = W_3^T dZ_3 \\cdot \\text{ReLU}'(Z_2)\n",
    "\\]\n",
    "\\[\n",
    "dW_2 = \\frac{1}{m} dZ_2 A_1^T, \\quad db_2 = \\frac{1}{m} \\sum_{i=1}^m dZ_2^{(i)}\n",
    "\\]\n",
    "\\[\n",
    "dZ_1 = W_2^T dZ_2 \\cdot \\text{ReLU}'(Z_1)\n",
    "\\]\n",
    "\\[\n",
    "dW_1 = \\frac{1}{m} dZ_1 X^T, \\quad db_1 = \\frac{1}{m} \\sum_{i=1}^m dZ_1^{(i)}\n",
    "\\]\n",
    "- **ReLU derivative**: \\( \\text{ReLU}'(z) = 1 \\) if \\( z > 0 \\), else 0.\n"
   ]
  },
  {
   "cell_type": "code",
   "execution_count": 6,
   "id": "f0c29f77",
   "metadata": {},
   "outputs": [],
   "source": [
    "# Backward propagation\n",
    "def backward_propagation_3layer(X, y, A1, A2, A3, W2, W3):\n",
    "    m = X.shape[1]\n",
    "    dZ3 = A3 - y\n",
    "    dW3 = np.dot(dZ3, A2.T) / m\n",
    "    db3 = np.sum(dZ3, axis=1, keepdims=True) / m\n",
    "    dZ2 = np.dot(W3.T, dZ3) * (A2 > 0)  # ReLU derivative\n",
    "    dW2 = np.dot(dZ2, A1.T) / m\n",
    "    db2 = np.sum(dZ2, axis=1, keepdims=True) / m\n",
    "    dZ1 = np.dot(W2.T, dZ2) * (A1 > 0)  # ReLU derivative\n",
    "    dW1 = np.dot(dZ1, X.T) / m\n",
    "    db1 = np.sum(dZ1, axis=1, keepdims=True) / m\n",
    "    return dW1, db1, dW2, db2, dW3, db3"
   ]
  },
  {
   "cell_type": "markdown",
   "id": "2b85d002",
   "metadata": {},
   "source": [
    "## Parameter Update\n",
    "Update the weights and biases for all layers:\n",
    "\\[\n",
    "W_l = W_l - \\alpha dW_l, \\quad b_l = b_l - \\alpha db_l \\quad \\text{for } l = 1, 2, 3\n",
    "\\]"
   ]
  },
  {
   "cell_type": "code",
   "execution_count": 7,
   "id": "10708eac",
   "metadata": {},
   "outputs": [],
   "source": [
    "# Update parameters\n",
    "def update_parameters_3layer(W1, b1, W2, b2, W3, b3, dW1, db1, dW2, db2, dW3, db3, learning_rate):\n",
    "    W1 = W1 - learning_rate * dW1\n",
    "    b1 = b1 - learning_rate * db1\n",
    "    W2 = W2 - learning_rate * dW2\n",
    "    b2 = b2 - learning_rate * db2\n",
    "    W3 = W3 - learning_rate * dW3\n",
    "    b3 = b3 - learning_rate * db3\n",
    "    return W1, b1, W2, b2, W3, b3"
   ]
  },
  {
   "cell_type": "markdown",
   "id": "1de39861",
   "metadata": {},
   "source": [
    "## Training the Model\n",
    "The model is trained by iteratively performing forward propagation, computing the cost, performing backward propagation, and updating the parameters for a specified number of epochs."
   ]
  },
  {
   "cell_type": "code",
   "execution_count": 10,
   "id": "10285e49",
   "metadata": {},
   "outputs": [],
   "source": [
    "# Train 3-layer DNN\n",
    "def train_three_layer(X, y, n_h1, n_h2, learning_rate=0.01, epochs=3000):\n",
    "    n_x, n_y = X.shape[0], y.shape[0]\n",
    "    W1, b1, W2, b2, W3, b3 = initialize_parameters_3layer(n_x, n_h1, n_h2, n_y)\n",
    "    costs = []\n",
    "    \n",
    "    for i in range(epochs):\n",
    "        A1, A2, A3 = forward_propagation_3layer(X, W1, b1, W2, b2, W3, b3)\n",
    "        cost = compute_cost_3layer(A3, y)\n",
    "        dW1, db1, dW2, db2, dW3, db3 = backward_propagation_3layer(X, y, A1, A2, A3, W2, W3)\n",
    "        W1, b1, W2, b2, W3, b3 = update_parameters_3layer(W1, b1, W2, b2, W3, b3, dW1, db1, dW2, db2, dW3, db3, learning_rate)\n",
    "        if i % 100 == 0:\n",
    "            costs.append(cost)\n",
    "            print(f\"Cost after iteration {i}: {cost}\")\n",
    "    \n",
    "    return W1, b1, W2, b2, W3, b3, costs"
   ]
  },
  {
   "cell_type": "markdown",
   "id": "977a3bfc",
   "metadata": {},
   "source": [
    "## Cost Reduction Plot\n",
    "After training, a plot of the cost over iterations is displayed to visualize the model's learning progress."
   ]
  },
  {
   "cell_type": "code",
   "execution_count": 11,
   "id": "2690db94",
   "metadata": {},
   "outputs": [
    {
     "name": "stdout",
     "output_type": "stream",
     "text": [
      "Cost after iteration 0: 0.6931471115114373\n",
      "Cost after iteration 100: 0.6927483243181081\n",
      "Cost after iteration 200: 0.6925065905559893\n",
      "Cost after iteration 300: 0.6923600397354306\n",
      "Cost after iteration 400: 0.6922711820252822\n",
      "Cost after iteration 500: 0.6922172981231679\n",
      "Cost after iteration 600: 0.6921846184479079\n",
      "Cost after iteration 700: 0.6921647964028748\n",
      "Cost after iteration 800: 0.6921527717981494\n",
      "Cost after iteration 900: 0.6921454763755526\n",
      "Cost after iteration 1000: 0.6921410494676219\n",
      "Cost after iteration 1100: 0.6921383625899443\n",
      "Cost after iteration 1200: 0.6921367312638267\n",
      "Cost after iteration 1300: 0.6921357402971754\n",
      "Cost after iteration 1400: 0.6921351378125276\n",
      "Cost after iteration 1500: 0.6921347710080132\n",
      "Cost after iteration 1600: 0.6921345471813055\n",
      "Cost after iteration 1700: 0.6921344100894871\n",
      "Cost after iteration 1800: 0.6921343256116897\n",
      "Cost after iteration 1900: 0.6921342730445076\n",
      "Cost after iteration 2000: 0.6921342398238753\n",
      "Cost after iteration 2100: 0.692134218327332\n",
      "Cost after iteration 2200: 0.6921342039295447\n",
      "Cost after iteration 2300: 0.6921341938237805\n",
      "Cost after iteration 2400: 0.692134186306658\n",
      "Cost after iteration 2500: 0.6921341803443022\n",
      "Cost after iteration 2600: 0.6921341753089735\n",
      "Cost after iteration 2700: 0.6921341708194503\n",
      "Cost after iteration 2800: 0.692134166643999\n",
      "Cost after iteration 2900: 0.6921341626403218\n"
     ]
    },
    {
     "data": {
      "image/png": "[encoded data removed]",
      "text/plain": [
       "<Figure size 640x480 with 1 Axes>"
      ]
     },
     "metadata": {},
     "output_type": "display_data"
    }
   ],
   "source": [
    "# Run the model\n",
    "n_h1, n_h2 = 4, 3  # 4 units in first layer, 3 in second\n",
    "W1, b1, W2, b2, W3, b3, costs = train_three_layer(X, y, n_h1, n_h2)\n",
    "plt.plot(costs)\n",
    "plt.xlabel('Iterations (hundreds)')\n",
    "plt.ylabel('Cost')\n",
    "plt.title('Cost Reduction Over Time')\n",
    "plt.show()"
   ]
  }
 ],
 "metadata": {
  "kernelspec": {
   "display_name": "Python 3",
   "language": "python",
   "name": "python3"
  },
  "language_info": {
   "codemirror_mode": {
    "name": "ipython",
    "version": 3
   },
   "file_extension": ".py",
   "mimetype": "text/x-python",
   "name": "python",
   "nbconvert_exporter": "python",
   "pygments_lexer": "ipython3",
   "version": "3.13.0"
  }
 },
 "nbformat": 4,
 "nbformat_minor": 5
}
