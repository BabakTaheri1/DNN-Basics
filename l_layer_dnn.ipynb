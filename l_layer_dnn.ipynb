{
 "cells": [
  {
   "cell_type": "markdown",
   "id": "86ae39c0",
   "metadata": {},
   "source": [
    "# L-Layer DNN (Generalized Deep Neural Network)\n",
    "\n",
    "This notebook implements a generalized L-layer neural network for binary classification, allowing for any number of layers. Below are the key components and equations that define the model.\n",
    "\n",
    "---\n",
    "\n",
    "## Data and Activations\n",
    "- **Data**: Synthetic data with \\( X \\in \\mathbb{R}^{2 \\times 400} \\) and \\( y \\in \\mathbb{R}^{1 \\times 400} \\), same as previous models.\n",
    "- **ReLU Activation**: Used for hidden layers:\n",
    "  \\[\n",
    "  \\text{ReLU}(z) = \\max(0, z)\n",
    "  \\]\n",
    "- **Sigmoid Activation**: Used for the output layer:\n",
    "  \\[\n",
    "  \\sigma(z) = \\frac{1}{1 + e^{-z}}\n",
    "  \\]\n"
   ]
  },
  {
   "cell_type": "markdown",
   "id": "ee89b882",
   "metadata": {},
   "source": [
    "## Parameter Initialization\n",
    "For an L-layer network defined by \\( \\text{layer_dims} = [n_x, n_1, n_2, \\dots, n_L] \\):\n",
    "- **Weights**: \\( W_l \\in \\mathbb{R}^{n_l \\times n_{l-1}} \\), randomly initialized (\\( \\times 0.01 \\)).\n",
    "- **Biases**: \\( b_l \\in \\mathbb{R}^{n_l \\times 1} \\), initialized to zeros.\n",
    "- Example: \\( [2, 4, 3, 2, 1] \\) for 2 input features, three hidden layers (4, 3, 2 units), and 1 output unit."
   ]
  },
  {
   "cell_type": "code",
   "execution_count": 1,
   "id": "7e422f94",
   "metadata": {},
   "outputs": [],
   "source": [
    "import numpy as np\n",
    "import matplotlib.pyplot as plt\n",
    "\n",
    "# Generate synthetic data\n",
    "np.random.seed(42)\n",
    "X = np.random.randn(2, 400)\n",
    "y = np.where(X[0, :] + X[1, :] > 0, 1, 0).reshape(1, 400)"
   ]
  },
  {
   "cell_type": "code",
   "execution_count": 2,
   "id": "dcdabd0f",
   "metadata": {},
   "outputs": [],
   "source": [
    "# Activation functions\n",
    "def sigmoid(z):\n",
    "    return 1 / (1 + np.exp(-z))\n",
    "\n",
    "def relu(z):\n",
    "    return np.maximum(0, z)"
   ]
  },
  {
   "cell_type": "code",
   "execution_count": 3,
   "id": "5afad0a8",
   "metadata": {},
   "outputs": [],
   "source": [
    "# Initialize parameters\n",
    "def initialize_parameters_deep(layer_dims):\n",
    "    parameters = {}\n",
    "    L = len(layer_dims)\n",
    "    for l in range(1, L):\n",
    "        parameters[f'W{l}'] = np.random.randn(layer_dims[l], layer_dims[l-1]) * 0.01\n",
    "        parameters[f'b{l}'] = np.zeros((layer_dims[l], 1))\n",
    "    return parameters"
   ]
  },
  {
   "cell_type": "markdown",
   "id": "236c4aef",
   "metadata": {},
   "source": [
    "## Forward Propagation\n",
    "For layers \\( l = 1 \\) to \\( L-1 \\) (hidden layers):\n",
    "\\[\n",
    "Z_l = W_l A_{l-1} + b_l, \\quad A_l = \\text{ReLU}(Z_l)\n",
    "\\]\n",
    "For the output layer (\\( l = L \\)):\n",
    "\\[\n",
    "Z_L = W_L A_{L-1} + b_L, \\quad A_L = \\sigma(Z_L)\n",
    "\\]\n",
    "- **\\( A_0 = X \\)**: Input layer."
   ]
  },
  {
   "cell_type": "code",
   "execution_count": 4,
   "id": "7e7ad7e2",
   "metadata": {},
   "outputs": [],
   "source": [
    "# Forward propagation\n",
    "def forward_propagation_deep(X, parameters):\n",
    "    caches = []\n",
    "    A = X\n",
    "    L = len(parameters) // 2\n",
    "    \n",
    "    for l in range(1, L):\n",
    "        A_prev = A\n",
    "        Z = np.dot(parameters[f'W{l}'], A_prev) + parameters[f'b{l}']\n",
    "        A = relu(Z)\n",
    "        caches.append((A_prev, Z, parameters[f'W{l}'], parameters[f'b{l}']))\n",
    "    \n",
    "    ZL = np.dot(parameters[f'W{L}'], A) + parameters[f'b{L}']\n",
    "    AL = sigmoid(ZL)\n",
    "    caches.append((A, ZL, parameters[f'W{L}'], parameters[f'b{L}']))\n",
    "    return AL, caches"
   ]
  },
  {
   "cell_type": "markdown",
   "id": "adb600c6",
   "metadata": {},
   "source": [
    "## Cost Function\n",
    "Binary cross-entropy loss:\n",
    "\\[\n",
    "J = -\\frac{1}{m} \\sum_{i=1}^m \\left[ y^{(i)} \\log(A_L^{(i)}) + (1 - y^{(i)}) \\log(1 - A_L^{(i)}) \\right]\n",
    "\\]"
   ]
  },
  {
   "cell_type": "code",
   "execution_count": 5,
   "id": "4b3d7d32",
   "metadata": {},
   "outputs": [],
   "source": [
    "# Compute cost\n",
    "def compute_cost_deep(AL, y):\n",
    "    m = y.shape[1]\n",
    "    cost = -np.sum(y * np.log(AL) + (1 - y) * np.log(1 - AL)) / m\n",
    "    return cost"
   ]
  },
  {
   "cell_type": "markdown",
   "id": "ccf91f56",
   "metadata": {},
   "source": [
    "## Backward Propagation\n",
    "Start at the output layer:\n",
    "\\[\n",
    "dZ_L = A_L - y\n",
    "\\]\n",
    "\\[\n",
    "dW_L = \\frac{1}{m} dZ_L A_{L-1}^T, \\quad db_L = \\frac{1}{m} \\sum_{i=1}^m dZ_L^{(i)}\n",
    "\\]\n",
    "For layers \\( l = L-1, L-2, \\dots, 1 \\):\n",
    "\\[\n",
    "dZ_l = W_{l+1}^T dZ_{l+1} \\cdot \\text{ReLU}'(Z_l)\n",
    "\\]\n",
    "\\[\n",
    "dW_l = \\frac{1}{m} dZ_l A_{l-1}^T, \\quad db_l = \\frac{1}{m} \\sum_{i=1}^m dZ_l^{(i)}\n",
    "\\]"
   ]
  },
  {
   "cell_type": "code",
   "execution_count": 6,
   "id": "418feaf1",
   "metadata": {},
   "outputs": [],
   "source": [
    "# Backward propagation\n",
    "def backward_propagation_deep(X, y, AL, caches):\n",
    "    grads = {}\n",
    "    L = len(caches)\n",
    "    m = X.shape[1]\n",
    "    \n",
    "    dZL = AL - y\n",
    "    A_prev, ZL, WL, bL = caches[L-1]\n",
    "    grads[f'dW{L}'] = np.dot(dZL, A_prev.T) / m\n",
    "    grads[f'db{L}'] = np.sum(dZL, axis=1, keepdims=True) / m\n",
    "    \n",
    "    for l in range(L-1, 0, -1):\n",
    "        A_prev, Z, W, b = caches[l-1]\n",
    "        dZ = np.dot(caches[l][2].T, dZL) * (Z > 0)  # ReLU derivative\n",
    "        grads[f'dW{l}'] = np.dot(dZ, A_prev.T) / m\n",
    "        grads[f'db{l}'] = np.sum(dZ, axis=1, keepdims=True) / m\n",
    "        dZL = dZ\n",
    "    \n",
    "    return grads"
   ]
  },
  {
   "cell_type": "markdown",
   "id": "7dbca30f",
   "metadata": {},
   "source": [
    "## Parameter Update\n",
    "Update the weights and biases for all layers:\n",
    "\\[\n",
    "W_l = W_l - \\alpha dW_l, \\quad b_l = b_l - \\alpha db_l \\quad \\text{for } l = 1, 2, \\dots, L\n",
    "\\]"
   ]
  },
  {
   "cell_type": "code",
   "execution_count": 7,
   "id": "26b4de7b",
   "metadata": {},
   "outputs": [],
   "source": [
    "# Update parameters\n",
    "def update_parameters_deep(parameters, grads, learning_rate):\n",
    "    L = len(parameters) // 2\n",
    "    for l in range(1, L + 1):\n",
    "        parameters[f'W{l}'] = parameters[f'W{l}'] - learning_rate * grads[f'dW{l}']\n",
    "        parameters[f'b{l}'] = parameters[f'b{l}'] - learning_rate * grads[f'db{l}']\n",
    "    return parameters"
   ]
  },
  {
   "cell_type": "markdown",
   "id": "fb599b18",
   "metadata": {},
   "source": [
    "## Training the Model\n",
    "The model is trained by iteratively performing forward propagation, computing the cost, performing backward propagation, and updating the parameters for a specified number of epochs.\n"
   ]
  },
  {
   "cell_type": "code",
   "execution_count": 10,
   "id": "1a4e0431",
   "metadata": {},
   "outputs": [],
   "source": [
    "# Train L-layer DNN\n",
    "def train_l_layer(X, y, layer_dims, learning_rate=0.01, epochs=3000):\n",
    "    parameters = initialize_parameters_deep(layer_dims)\n",
    "    costs = []\n",
    "    \n",
    "    for i in range(epochs):\n",
    "        AL, caches = forward_propagation_deep(X, parameters)\n",
    "        cost = compute_cost_deep(AL, y)\n",
    "        grads = backward_propagation_deep(X, y, AL, caches)\n",
    "        parameters = update_parameters_deep(parameters, grads, learning_rate)\n",
    "        if i % 100 == 0:\n",
    "            costs.append(cost)\n",
    "            print(f\"Cost after iteration {i}: {cost}\")\n",
    "    \n",
    "    return parameters, costs"
   ]
  },
  {
   "cell_type": "markdown",
   "id": "ffb49c8c",
   "metadata": {},
   "source": [
    "## Cost Reduction Plot\n",
    "After training, a plot of the cost over iterations is displayed to visualize the model's learning progress."
   ]
  },
  {
   "cell_type": "code",
   "execution_count": 11,
   "id": "5d13ae6e",
   "metadata": {},
   "outputs": [
    {
     "name": "stdout",
     "output_type": "stream",
     "text": [
      "Cost after iteration 0: 0.6931471796111535\n",
      "Cost after iteration 100: 0.6927483956594503\n",
      "Cost after iteration 200: 0.6925066642579628\n",
      "Cost after iteration 300: 0.6923601183847502\n",
      "Cost after iteration 400: 0.6922712662664233\n",
      "Cost after iteration 500: 0.6922173877983551\n",
      "Cost after iteration 600: 0.6921847131365273\n",
      "Cost after iteration 700: 0.6921648956355536\n",
      "Cost after iteration 800: 0.692152875153834\n",
      "Cost after iteration 900: 0.6921455835369779\n",
      "Cost after iteration 1000: 0.6921411602066331\n",
      "Cost after iteration 1100: 0.6921384767542281\n",
      "Cost after iteration 1200: 0.6921368487577254\n",
      "Cost after iteration 1300: 0.6921358610576855\n",
      "Cost after iteration 1400: 0.6921352618097751\n",
      "Cost after iteration 1500: 0.6921348982335522\n",
      "Cost after iteration 1600: 0.6921346776407379\n",
      "Cost after iteration 1700: 0.6921345437985092\n",
      "Cost after iteration 1800: 0.6921344625902813\n",
      "Cost after iteration 1900: 0.6921344133169637\n",
      "Cost after iteration 2000: 0.6921343834196846\n",
      "Cost after iteration 2100: 0.6921343652787728\n",
      "Cost after iteration 2200: 0.6921343542711225\n",
      "Cost after iteration 2300: 0.6921343475916112\n",
      "Cost after iteration 2400: 0.6921343435382492\n",
      "Cost after iteration 2500: 0.6921343410782248\n",
      "Cost after iteration 2600: 0.6921343395850699\n",
      "Cost after iteration 2700: 0.6921343386785789\n",
      "Cost after iteration 2800: 0.6921343381281905\n",
      "Cost after iteration 2900: 0.6921343377938252\n"
     ]
    },
    {
     "data": {
      "image/png": "[encoded data removed]",
      "text/plain": [
       "<Figure size 640x480 with 1 Axes>"
      ]
     },
     "metadata": {},
     "output_type": "display_data"
    }
   ],
   "source": [
    "# Run the model\n",
    "layer_dims = [2, 4, 3, 2, 1]  # Input: 2, Hidden: 4, 3, 2, Output: 1\n",
    "parameters, costs = train_l_layer(X, y, layer_dims)\n",
    "plt.plot(costs)\n",
    "plt.xlabel('Iterations (hundreds)')\n",
    "plt.ylabel('Cost')\n",
    "plt.title('Cost Reduction Over Time')\n",
    "plt.show()"
   ]
  },
  {
   "cell_type": "code",
   "execution_count": null,
   "id": "ed56cff6",
   "metadata": {},
   "outputs": [],
   "source": []
  }
 ],
 "metadata": {
  "kernelspec": {
   "display_name": "Python 3",
   "language": "python",
   "name": "python3"
  },
  "language_info": {
   "codemirror_mode": {
    "name": "ipython",
    "version": 3
   },
   "file_extension": ".py",
   "mimetype": "text/x-python",
   "name": "python",
   "nbconvert_exporter": "python",
   "pygments_lexer": "ipython3",
   "version": "3.13.0"
  }
 },
 "nbformat": 4,
 "nbformat_minor": 5
}
