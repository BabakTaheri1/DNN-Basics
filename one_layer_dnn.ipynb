{
 "cells": [
  {
   "cell_type": "markdown",
   "id": "fe6652e6",
   "metadata": {},
   "source": [
    "This notebook implements a simple 1-layer neural network (also known as a shallow neural network) with one hidden layer for binary classification. Below are the key components and equations that define the model.\n",
    "\n",
    "## Data Generation\n",
    "We generate synthetic data for binary classification:\n",
    "- **Features**: \\( X \\in \\mathbb{R}^{2 \\times m} \\), where 2 is the number of features and \\( m = 400 \\) is the number of samples.\n",
    "- **Labels**: \\( y = \\begin{cases} 1 & \\text{if } X_1 + X_2 > 0 \\\\ 0 & \\text{otherwise} \\end{cases} \\), reshaped to \\( y \\in \\mathbb{R}^{1 \\times m} \\).\n",
    "\n"
   ]
  },
  {
   "cell_type": "code",
   "id": "d679755c",
   "metadata": {
    "ExecuteTime": {
     "end_time": "2025-06-07T03:40:44.062325Z",
     "start_time": "2025-06-07T03:40:43.923143Z"
    }
   },
   "source": [
    "import numpy as np\n",
    "import matplotlib.pyplot as plt\n",
    "\n",
    "# Generate synthetic data\n",
    "np.random.seed(42)\n",
    "X = np.random.randn(2, 400)  # 2 features, 400 samples\n",
    "y = np.where(X[0, :] + X[1, :] > 0, 1, 0).reshape(1, 400)  # Binary classification"
   ],
   "outputs": [
    {
     "ename": "ModuleNotFoundError",
     "evalue": "No module named 'numpy'",
     "output_type": "error",
     "traceback": [
      "\u001B[31m---------------------------------------------------------------------------\u001B[39m",
      "\u001B[31mModuleNotFoundError\u001B[39m                       Traceback (most recent call last)",
      "\u001B[36mCell\u001B[39m\u001B[36m \u001B[39m\u001B[32mIn[1]\u001B[39m\u001B[32m, line 1\u001B[39m\n\u001B[32m----> \u001B[39m\u001B[32m1\u001B[39m \u001B[38;5;28;01mimport\u001B[39;00m\u001B[38;5;250m \u001B[39m\u001B[34;01mnumpy\u001B[39;00m\u001B[38;5;250m \u001B[39m\u001B[38;5;28;01mas\u001B[39;00m\u001B[38;5;250m \u001B[39m\u001B[34;01mnp\u001B[39;00m\n\u001B[32m      2\u001B[39m \u001B[38;5;28;01mimport\u001B[39;00m\u001B[38;5;250m \u001B[39m\u001B[34;01mmatplotlib\u001B[39;00m\u001B[34;01m.\u001B[39;00m\u001B[34;01mpyplot\u001B[39;00m\u001B[38;5;250m \u001B[39m\u001B[38;5;28;01mas\u001B[39;00m\u001B[38;5;250m \u001B[39m\u001B[34;01mplt\u001B[39;00m\n\u001B[32m      4\u001B[39m \u001B[38;5;66;03m# Generate synthetic data\u001B[39;00m\n",
      "\u001B[31mModuleNotFoundError\u001B[39m: No module named 'numpy'"
     ]
    }
   ],
   "execution_count": 1
  },
  {
   "cell_type": "markdown",
   "id": "ab324817",
   "metadata": {},
   "source": [
    "## Sigmoid Activation\n",
    "The sigmoid function is used in the output layer for binary classification:\n",
    "\\[\n",
    "\\sigma(z) = \\frac{1}{1 + e^{-z}}\n",
    "\\]\n",
    "- **Input**: \\( z \\), the linear combination of inputs and weights.\n",
    "- **Output**: A value between 0 and 1, representing the probability of the positive class."
   ]
  },
  {
   "cell_type": "code",
   "execution_count": 29,
   "id": "2b29b957",
   "metadata": {},
   "outputs": [],
   "source": [
    "# Sigmoid activation\n",
    "def sigmoid(z):\n",
    "    return 1 / (1 + np.exp(-z))"
   ]
  },
  {
   "cell_type": "markdown",
   "id": "e340efd5",
   "metadata": {},
   "source": [
    "## Parameter Initialization\n",
    "Initialize the weights and biases for the hidden layer:\n",
    "- **Weights**: \\( W_1 \\in \\mathbb{R}^{n_h \\times n_x} \\), randomly initialized with small values (\\( \\times 0.01 \\)).\n",
    "- **Bias**: \\( b_1 \\in \\mathbb{R}^{n_h \\times 1} \\), initialized to zeros.\n",
    "- Here, \\( n_x = 2 \\) (input features), and \\( n_h = 4 \\) (hidden units).\n"
   ]
  },
  {
   "cell_type": "code",
   "execution_count": 30,
   "id": "930607e3",
   "metadata": {},
   "outputs": [],
   "source": [
    "# Initialize parameters\n",
    "def initialize_parameters(n_x, n_h):\n",
    "    W1 = np.random.randn(n_h, n_x) * 0.01\n",
    "    b1 = np.zeros((n_h, 1))\n",
    "    return W1, b1"
   ]
  },
  {
   "cell_type": "markdown",
   "id": "58aeb8cf",
   "metadata": {},
   "source": [
    "## Forward Propagation\n",
    "Compute the output of the single hidden layer:\n",
    "\\[\n",
    "Z_1 = W_1 X + b_1\n",
    "\\]\n",
    "\\[\n",
    "A_1 = \\sigma(Z_1)\n",
    "\\]\n",
    "- **\\( Z_1 \\)**: Linear transformation of the inputs.\n",
    "- **\\( A_1 \\)**: Activated output, which predicts the class probabilities.\n"
   ]
  },
  {
   "cell_type": "code",
   "execution_count": 31,
   "id": "77fa1665",
   "metadata": {},
   "outputs": [],
   "source": [
    "# Forward propagation\n",
    "def forward_propagation(X, W1, b1):\n",
    "    Z1 = np.dot(W1, X) + b1\n",
    "    A1 = sigmoid(Z1)\n",
    "    return A1"
   ]
  },
  {
   "cell_type": "markdown",
   "id": "db5e5146",
   "metadata": {},
   "source": [
    "## Cost Function\n",
    "The binary cross-entropy loss measures the model's performance:\n",
    "\\[\n",
    "J = -\\frac{1}{m} \\sum_{i=1}^m \\left[ y^{(i)} \\log(A_1^{(i)}) + (1 - y^{(i)}) \\log(1 - A_1^{(i)}) \\right]\n",
    "\\]\n",
    "- **\\( y \\)**: True labels.\n",
    "- **\\( A_1 \\)**: Predicted probabilities.\n",
    "- **\\( m \\)**: Number of samples.\n"
   ]
  },
  {
   "cell_type": "code",
   "execution_count": 32,
   "id": "c389cffb",
   "metadata": {},
   "outputs": [],
   "source": [
    "# Compute cost\n",
    "def compute_cost(A1, y):\n",
    "    m = y.shape[1]\n",
    "    cost = -np.sum(y * np.log(A1) + (1 - y) * np.log(1 - A1)) / m\n",
    "    return cost"
   ]
  },
  {
   "cell_type": "markdown",
   "id": "e2d4257a",
   "metadata": {},
   "source": [
    "## Backward Propagation\n",
    "Compute the gradients for parameter updates:\n",
    "\\[\n",
    "dZ_1 = A_1 - y\n",
    "\\]\n",
    "\\[\n",
    "dW_1 = \\frac{1}{m} dZ_1 X^T\n",
    "\\]\n",
    "\\[\n",
    "db_1 = \\frac{1}{m} \\sum_{i=1}^m dZ_1^{(i)}\n",
    "\\]\n",
    "- **\\( dZ_1 \\)**: Error at the output layer.\n",
    "- **\\( dW_1, db_1 \\)**: Gradients for the weights and bias."
   ]
  },
  {
   "cell_type": "code",
   "execution_count": 33,
   "id": "0c7d790a",
   "metadata": {},
   "outputs": [],
   "source": [
    "# Backward propagation\n",
    "def backward_propagation(X, y, A1):\n",
    "    m = X.shape[1]\n",
    "    dZ1 = A1 - y\n",
    "    dW1 = np.dot(dZ1, X.T) / m\n",
    "    db1 = np.sum(dZ1, axis=1, keepdims=True) / m\n",
    "    return dW1, db1"
   ]
  },
  {
   "cell_type": "markdown",
   "id": "75d72b7f",
   "metadata": {},
   "source": [
    "## Parameter Update\n",
    "Update the weights and biases using gradient descent:\n",
    "\\[\n",
    "W_1 = W_1 - \\alpha dW_1\n",
    "\\]\n",
    "\\[\n",
    "b_1 = b_1 - \\alpha db_1\n",
    "\\]\n",
    "- **\\( \\alpha \\)**: Learning rate (e.g., 0.01)."
   ]
  },
  {
   "cell_type": "code",
   "execution_count": 34,
   "id": "d349ca74",
   "metadata": {},
   "outputs": [],
   "source": [
    "# Update parameters\n",
    "def update_parameters(W1, b1, dW1, db1, learning_rate):\n",
    "    W1 = W1 - learning_rate * dW1\n",
    "    b1 = b1 - learning_rate * db1\n",
    "    return W1, b1\n"
   ]
  },
  {
   "cell_type": "markdown",
   "id": "4e78ebc2",
   "metadata": {},
   "source": [
    "## Training the Model\n",
    "The model is trained by iteratively performing forward propagation, computing the cost, performing backward propagation, and updating the parameters for a specified number of epochs."
   ]
  },
  {
   "cell_type": "code",
   "execution_count": 35,
   "id": "7cd02aa6",
   "metadata": {},
   "outputs": [],
   "source": [
    "# Train 1-layer DNN\n",
    "def train_one_layer(X, y, n_h, learning_rate=0.01, epochs=2000):\n",
    "    n_x = X.shape[0]\n",
    "    W1, b1 = initialize_parameters(n_x, n_h)\n",
    "    costs = []\n",
    "    \n",
    "    for i in range(epochs):\n",
    "        A1 = forward_propagation(X, W1, b1)\n",
    "        cost = compute_cost(A1, y)\n",
    "        dW1, db1 = backward_propagation(X, y, A1)\n",
    "        W1, b1 = update_parameters(W1, b1, dW1, db1, learning_rate)\n",
    "        \n",
    "        if i % 100 == 0:\n",
    "            costs.append(cost)\n",
    "            print(f\"Cost after iteration {i}: {cost}\")\n",
    "    \n",
    "    return W1, b1, costs"
   ]
  },
  {
   "cell_type": "markdown",
   "id": "17ee4476",
   "metadata": {},
   "source": [
    "## Cost Reduction Plot\n",
    "After training, a plot of the cost over iterations is displayed to visualize the model's learning progress."
   ]
  },
  {
   "cell_type": "code",
   "execution_count": 36,
   "id": "4fc4b708",
   "metadata": {},
   "outputs": [
    {
     "name": "stdout",
     "output_type": "stream",
     "text": [
      "Cost after iteration 0: 2.7752903039013024\n",
      "Cost after iteration 100: 2.334827665123542\n",
      "Cost after iteration 200: 2.0396175830987864\n",
      "Cost after iteration 300: 1.8310731364994917\n",
      "Cost after iteration 400: 1.6761271248577227\n",
      "Cost after iteration 500: 1.5561518545354662\n",
      "Cost after iteration 600: 1.4601628485317872\n",
      "Cost after iteration 700: 1.3813371742057279\n",
      "Cost after iteration 800: 1.3152309954016956\n",
      "Cost after iteration 900: 1.2588291421013453\n",
      "Cost after iteration 1000: 1.2100133469635177\n",
      "Cost after iteration 1100: 1.1672507055550942\n",
      "Cost after iteration 1200: 1.1294034255425192\n",
      "Cost after iteration 1300: 1.0956083080100054\n",
      "Cost after iteration 1400: 1.065197903692232\n",
      "Cost after iteration 1500: 1.037647451117695\n",
      "Cost after iteration 1600: 1.0125382615906993\n",
      "Cost after iteration 1700: 0.9895318863455036\n",
      "Cost after iteration 1800: 0.9683515265930848\n",
      "Cost after iteration 1900: 0.9487684163609831\n"
     ]
    },
    {
     "data": {
      "image/png": "[encoded data removed]",
      "text/plain": [
       "<Figure size 640x480 with 1 Axes>"
      ]
     },
     "metadata": {},
     "output_type": "display_data"
    }
   ],
   "source": [
    "# Run the model\n",
    "n_h = 4  # 4 hidden units\n",
    "W1, b1, costs = train_one_layer(X, y, n_h)\n",
    "plt.plot(costs)\n",
    "plt.xlabel('Iterations (hundreds)')\n",
    "plt.ylabel('Cost')\n",
    "plt.title('Cost Reduction Over Time')\n",
    "plt.show()"
   ]
  }
 ],
 "metadata": {
  "kernelspec": {
   "display_name": "Python 3",
   "language": "python",
   "name": "python3"
  },
  "language_info": {
   "codemirror_mode": {
    "name": "ipython",
    "version": 3
   },
   "file_extension": ".py",
   "mimetype": "text/x-python",
   "name": "python",
   "nbconvert_exporter": "python",
   "pygments_lexer": "ipython3",
   "version": "3.13.0"
  }
 },
 "nbformat": 4,
 "nbformat_minor": 5
}
